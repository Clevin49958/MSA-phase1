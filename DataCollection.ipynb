{
  "cells": [
    {
      "metadata": {
        "trusted": true
      },
      "cell_type": "code",
      "source": [
        "import pandas as pd\n",
        "import requests\n",
        "import json\n",
        "import re"
      ],
      "execution_count": 1,
      "outputs": []
    },
    {
      "metadata": {},
      "cell_type": "markdown",
      "source": [
        "Your task is to add 2 columns to the dataset I provided, one column for population count, and another for the Deprivation Index."
      ]
    },
    {
      "metadata": {
        "trusted": true
      },
      "cell_type": "code",
      "source": [
        "def getPop(lat,lng):\n",
        "    '''\n",
        "    returns population if obtained, or a negative integer that has absolute value being the negative response code\n",
        "    '''\n",
        "    url = \"https://koordinates.com/services/query/v1/vector.json\"\n",
        "    params = {\n",
        "        'key': 'd34f32af5b7e41ccabc7aa9c67a76a43',\n",
        "        'layer': 104612,\n",
        "        'x': lng,\n",
        "        'y': lat    \n",
        "    }\n",
        "    response = requests.get(url,params=params)\n",
        "    if response.status_code != 200:\n",
        "        return pd.Series({'Population18': -response.status_code})\n",
        "    properties = response.json()['vectorQuery']['layers']['104612']['features'][0]['properties']\n",
        "    return pd.Series({'Population18': properties['C18_CURPop']})\n"
      ],
      "execution_count": 2,
      "outputs": []
    },
    {
      "cell_type": "code",
      "execution_count": 3,
      "metadata": {},
      "outputs": [],
      "source": [
        "# dfDI: dataframe for deprive index\n",
        "dfDI = pd.read_excel('otago730395.xlsx')\n",
        "dfDI = dfDI.drop(['NZDep2018_Score', 'SA22018_code', 'SA22018_name'], axis=1)"
      ]
    },
    {
      "cell_type": "code",
      "execution_count": 4,
      "metadata": {},
      "outputs": [
        {
          "output_type": "execute_result",
          "data": {
            "text/plain": "   SA12018_code  NZDep2018  URPopnSA1_2018\n0       7000000       10.0             141\n1       7000001       10.0             114\n2       7000002        NaN               0\n3       7000003       10.0             225\n4       7000004        9.0             138",
            "text/html": "<div>\n<style scoped>\n    .dataframe tbody tr th:only-of-type {\n        vertical-align: middle;\n    }\n\n    .dataframe tbody tr th {\n        vertical-align: top;\n    }\n\n    .dataframe thead th {\n        text-align: right;\n    }\n</style>\n<table border=\"1\" class=\"dataframe\">\n  <thead>\n    <tr style=\"text-align: right;\">\n      <th></th>\n      <th>SA12018_code</th>\n      <th>NZDep2018</th>\n      <th>URPopnSA1_2018</th>\n    </tr>\n  </thead>\n  <tbody>\n    <tr>\n      <th>0</th>\n      <td>7000000</td>\n      <td>10.0</td>\n      <td>141</td>\n    </tr>\n    <tr>\n      <th>1</th>\n      <td>7000001</td>\n      <td>10.0</td>\n      <td>114</td>\n    </tr>\n    <tr>\n      <th>2</th>\n      <td>7000002</td>\n      <td>NaN</td>\n      <td>0</td>\n    </tr>\n    <tr>\n      <th>3</th>\n      <td>7000003</td>\n      <td>10.0</td>\n      <td>225</td>\n    </tr>\n    <tr>\n      <th>4</th>\n      <td>7000004</td>\n      <td>9.0</td>\n      <td>138</td>\n    </tr>\n  </tbody>\n</table>\n</div>"
          },
          "metadata": {},
          "execution_count": 4
        }
      ],
      "source": [
        "dfDI.head()"
      ]
    },
    {
      "cell_type": "code",
      "execution_count": 5,
      "metadata": {},
      "outputs": [],
      "source": [
        "df = pd.read_csv('Dataset.csv')"
      ]
    },
    {
      "cell_type": "code",
      "execution_count": 6,
      "metadata": {},
      "outputs": [],
      "source": [
        "df = df.merge(dfDI, left_on = 'SA1', right_on = 'SA12018_code', how='left')"
      ]
    },
    {
      "cell_type": "code",
      "execution_count": 7,
      "metadata": {},
      "outputs": [
        {
          "output_type": "execute_result",
          "data": {
            "text/plain": "   Bedrooms  Bathrooms                                    Address Land area  \\\n0         5        3.0  106 Lawrence Crescent Hill Park, Auckland       714   \n1         5        3.0             8 Corsica Way Karaka, Auckland       564   \n2         6        4.0     243 Harbourside Drive Karaka, Auckland       626   \n3         2        1.0  2/30 Hardington Street Onehunga, Auckland        65   \n4         3        1.0     59 Israel Avenue Clover Park, Auckland       601   \n\n        CV   Latitude   Longitude      SA1  0-19 years  20-29 years  \\\n0   960000 -37.012920  174.904069  7009770          48           27   \n1  1250000 -37.063672  174.922912  7009991          42           18   \n2  1250000 -37.063580  174.924044  7009991          42           18   \n3   740000 -36.912996  174.787425  7007871          42            6   \n4   630000 -36.979037  174.892612  7008902          93           27   \n\n   30-39 years  40-49 years  50-59 years  60+ years      Suburbs  \\\n0           24           21           24         21     Manurewa   \n1           12           21           15         30       Karaka   \n2           12           21           15         30       Karaka   \n3           21           21           12         15     Onehunga   \n4           33           30           21         33  Clover Park   \n\n   SA12018_code  NZDep2018  URPopnSA1_2018  \n0       7009770        6.0             174  \n1       7009991        1.0             129  \n2       7009991        1.0             129  \n3       7007871        2.0             120  \n4       7008902        9.0             231  ",
            "text/html": "<div>\n<style scoped>\n    .dataframe tbody tr th:only-of-type {\n        vertical-align: middle;\n    }\n\n    .dataframe tbody tr th {\n        vertical-align: top;\n    }\n\n    .dataframe thead th {\n        text-align: right;\n    }\n</style>\n<table border=\"1\" class=\"dataframe\">\n  <thead>\n    <tr style=\"text-align: right;\">\n      <th></th>\n      <th>Bedrooms</th>\n      <th>Bathrooms</th>\n      <th>Address</th>\n      <th>Land area</th>\n      <th>CV</th>\n      <th>Latitude</th>\n      <th>Longitude</th>\n      <th>SA1</th>\n      <th>0-19 years</th>\n      <th>20-29 years</th>\n      <th>30-39 years</th>\n      <th>40-49 years</th>\n      <th>50-59 years</th>\n      <th>60+ years</th>\n      <th>Suburbs</th>\n      <th>SA12018_code</th>\n      <th>NZDep2018</th>\n      <th>URPopnSA1_2018</th>\n    </tr>\n  </thead>\n  <tbody>\n    <tr>\n      <th>0</th>\n      <td>5</td>\n      <td>3.0</td>\n      <td>106 Lawrence Crescent Hill Park, Auckland</td>\n      <td>714</td>\n      <td>960000</td>\n      <td>-37.012920</td>\n      <td>174.904069</td>\n      <td>7009770</td>\n      <td>48</td>\n      <td>27</td>\n      <td>24</td>\n      <td>21</td>\n      <td>24</td>\n      <td>21</td>\n      <td>Manurewa</td>\n      <td>7009770</td>\n      <td>6.0</td>\n      <td>174</td>\n    </tr>\n    <tr>\n      <th>1</th>\n      <td>5</td>\n      <td>3.0</td>\n      <td>8 Corsica Way Karaka, Auckland</td>\n      <td>564</td>\n      <td>1250000</td>\n      <td>-37.063672</td>\n      <td>174.922912</td>\n      <td>7009991</td>\n      <td>42</td>\n      <td>18</td>\n      <td>12</td>\n      <td>21</td>\n      <td>15</td>\n      <td>30</td>\n      <td>Karaka</td>\n      <td>7009991</td>\n      <td>1.0</td>\n      <td>129</td>\n    </tr>\n    <tr>\n      <th>2</th>\n      <td>6</td>\n      <td>4.0</td>\n      <td>243 Harbourside Drive Karaka, Auckland</td>\n      <td>626</td>\n      <td>1250000</td>\n      <td>-37.063580</td>\n      <td>174.924044</td>\n      <td>7009991</td>\n      <td>42</td>\n      <td>18</td>\n      <td>12</td>\n      <td>21</td>\n      <td>15</td>\n      <td>30</td>\n      <td>Karaka</td>\n      <td>7009991</td>\n      <td>1.0</td>\n      <td>129</td>\n    </tr>\n    <tr>\n      <th>3</th>\n      <td>2</td>\n      <td>1.0</td>\n      <td>2/30 Hardington Street Onehunga, Auckland</td>\n      <td>65</td>\n      <td>740000</td>\n      <td>-36.912996</td>\n      <td>174.787425</td>\n      <td>7007871</td>\n      <td>42</td>\n      <td>6</td>\n      <td>21</td>\n      <td>21</td>\n      <td>12</td>\n      <td>15</td>\n      <td>Onehunga</td>\n      <td>7007871</td>\n      <td>2.0</td>\n      <td>120</td>\n    </tr>\n    <tr>\n      <th>4</th>\n      <td>3</td>\n      <td>1.0</td>\n      <td>59 Israel Avenue Clover Park, Auckland</td>\n      <td>601</td>\n      <td>630000</td>\n      <td>-36.979037</td>\n      <td>174.892612</td>\n      <td>7008902</td>\n      <td>93</td>\n      <td>27</td>\n      <td>33</td>\n      <td>30</td>\n      <td>21</td>\n      <td>33</td>\n      <td>Clover Park</td>\n      <td>7008902</td>\n      <td>9.0</td>\n      <td>231</td>\n    </tr>\n  </tbody>\n</table>\n</div>"
          },
          "metadata": {},
          "execution_count": 7
        }
      ],
      "source": [
        "df.head()"
      ]
    },
    {
      "cell_type": "code",
      "execution_count": 8,
      "metadata": {},
      "outputs": [
        {
          "output_type": "execute_result",
          "data": {
            "text/plain": "(1051, 18)"
          },
          "metadata": {},
          "execution_count": 8
        }
      ],
      "source": [
        "df.shape"
      ]
    },
    {
      "cell_type": "code",
      "execution_count": 9,
      "metadata": {},
      "outputs": [],
      "source": [
        "\n",
        "df = df.drop(['SA12018_code'], axis=1)"
      ]
    },
    {
      "cell_type": "code",
      "execution_count": 10,
      "metadata": {},
      "outputs": [],
      "source": [
        "df['Population18'] = df.apply(lambda r: getPop(r['Latitude'], r['Longitude']), axis=1)"
      ]
    },
    {
      "cell_type": "code",
      "execution_count": 11,
      "metadata": {},
      "outputs": [
        {
          "output_type": "execute_result",
          "data": {
            "text/plain": "Empty DataFrame\nColumns: [Bedrooms, Bathrooms, Address, Land area, CV, Latitude, Longitude, SA1, 0-19 years, 20-29 years, 30-39 years, 40-49 years, 50-59 years, 60+ years, Suburbs, NZDep2018, URPopnSA1_2018, Population18]\nIndex: []",
            "text/html": "<div>\n<style scoped>\n    .dataframe tbody tr th:only-of-type {\n        vertical-align: middle;\n    }\n\n    .dataframe tbody tr th {\n        vertical-align: top;\n    }\n\n    .dataframe thead th {\n        text-align: right;\n    }\n</style>\n<table border=\"1\" class=\"dataframe\">\n  <thead>\n    <tr style=\"text-align: right;\">\n      <th></th>\n      <th>Bedrooms</th>\n      <th>Bathrooms</th>\n      <th>Address</th>\n      <th>Land area</th>\n      <th>CV</th>\n      <th>Latitude</th>\n      <th>Longitude</th>\n      <th>SA1</th>\n      <th>0-19 years</th>\n      <th>20-29 years</th>\n      <th>30-39 years</th>\n      <th>40-49 years</th>\n      <th>50-59 years</th>\n      <th>60+ years</th>\n      <th>Suburbs</th>\n      <th>NZDep2018</th>\n      <th>URPopnSA1_2018</th>\n      <th>Population18</th>\n    </tr>\n  </thead>\n  <tbody>\n  </tbody>\n</table>\n</div>"
          },
          "metadata": {},
          "execution_count": 11
        }
      ],
      "source": [
        "# check presence of negative response code\n",
        "df.loc[df['Population18'] < 0]"
      ]
    },
    {
      "cell_type": "code",
      "execution_count": 12,
      "metadata": {},
      "outputs": [
        {
          "output_type": "error",
          "ename": "ValueError",
          "evalue": "The truth value of a DataFrame is ambiguous. Use a.empty, a.bool(), a.item(), a.any() or a.all().",
          "traceback": [
            "\u001b[1;31m---------------------------------------------------------------------------\u001b[0m",
            "\u001b[1;31mValueError\u001b[0m                                Traceback (most recent call last)",
            "\u001b[1;32m<ipython-input-12-cfaa50c52113>\u001b[0m in \u001b[0;36m<module>\u001b[1;34m\u001b[0m\n\u001b[0;32m      1\u001b[0m \u001b[1;31m# check whether population from 2 resources are coherent\u001b[0m\u001b[1;33m\u001b[0m\u001b[1;33m\u001b[0m\u001b[1;33m\u001b[0m\u001b[0m\n\u001b[1;32m----> 2\u001b[1;33m \u001b[1;32mif\u001b[0m \u001b[1;33m(\u001b[0m\u001b[0mdf\u001b[0m\u001b[1;33m.\u001b[0m\u001b[0mloc\u001b[0m\u001b[1;33m[\u001b[0m\u001b[0mdf\u001b[0m\u001b[1;33m[\u001b[0m\u001b[1;34m'Population18'\u001b[0m\u001b[1;33m]\u001b[0m \u001b[1;33m!=\u001b[0m \u001b[0mdf\u001b[0m\u001b[1;33m[\u001b[0m\u001b[1;34m'URPopnSA1_2018'\u001b[0m\u001b[1;33m]\u001b[0m\u001b[1;33m]\u001b[0m\u001b[1;33m)\u001b[0m\u001b[1;33m:\u001b[0m\u001b[1;33m\u001b[0m\u001b[1;33m\u001b[0m\u001b[0m\n\u001b[0m\u001b[0;32m      3\u001b[0m     \u001b[0mdf\u001b[0m \u001b[1;33m=\u001b[0m \u001b[0mdf\u001b[0m\u001b[1;33m.\u001b[0m\u001b[0mdrop\u001b[0m\u001b[1;33m(\u001b[0m\u001b[1;33m[\u001b[0m\u001b[1;34m'URPopnSA1_2018'\u001b[0m\u001b[1;33m]\u001b[0m\u001b[1;33m,\u001b[0m \u001b[0maxis\u001b[0m\u001b[1;33m=\u001b[0m\u001b[1;36m1\u001b[0m\u001b[1;33m)\u001b[0m\u001b[1;33m\u001b[0m\u001b[1;33m\u001b[0m\u001b[0m\n\u001b[0;32m      4\u001b[0m     \u001b[0mprint\u001b[0m\u001b[1;33m(\u001b[0m\u001b[1;34m\"Succeed\"\u001b[0m\u001b[1;33m)\u001b[0m\u001b[1;33m\u001b[0m\u001b[1;33m\u001b[0m\u001b[0m\n\u001b[0;32m      5\u001b[0m \u001b[1;32melse\u001b[0m\u001b[1;33m:\u001b[0m\u001b[1;33m\u001b[0m\u001b[1;33m\u001b[0m\u001b[0m\n",
            "\u001b[1;32m~\\AppData\\Local\\Programs\\Python\\Python38-32\\lib\\site-packages\\pandas\\core\\generic.py\u001b[0m in \u001b[0;36m__nonzero__\u001b[1;34m(self)\u001b[0m\n\u001b[0;32m   1476\u001b[0m \u001b[1;33m\u001b[0m\u001b[0m\n\u001b[0;32m   1477\u001b[0m     \u001b[1;32mdef\u001b[0m \u001b[0m__nonzero__\u001b[0m\u001b[1;33m(\u001b[0m\u001b[0mself\u001b[0m\u001b[1;33m)\u001b[0m\u001b[1;33m:\u001b[0m\u001b[1;33m\u001b[0m\u001b[1;33m\u001b[0m\u001b[0m\n\u001b[1;32m-> 1478\u001b[1;33m         raise ValueError(\n\u001b[0m\u001b[0;32m   1479\u001b[0m             \u001b[1;34mf\"The truth value of a {type(self).__name__} is ambiguous. \"\u001b[0m\u001b[1;33m\u001b[0m\u001b[1;33m\u001b[0m\u001b[0m\n\u001b[0;32m   1480\u001b[0m             \u001b[1;34m\"Use a.empty, a.bool(), a.item(), a.any() or a.all().\"\u001b[0m\u001b[1;33m\u001b[0m\u001b[1;33m\u001b[0m\u001b[0m\n",
            "\u001b[1;31mValueError\u001b[0m: The truth value of a DataFrame is ambiguous. Use a.empty, a.bool(), a.item(), a.any() or a.all()."
          ]
        }
      ],
      "source": [
        "# check whether population from 2 resources are coherent\n",
        "if (df.loc[df['Population18'] != df['URPopnSA1_2018']]):\n",
        "    df = df.drop(['URPopnSA1_2018'], axis=1)\n",
        "    print(\"Succeed\")\n",
        "else:\n",
        "    df.loc[df['Population18'] != df['URPopnSA1_2018']]"
      ]
    },
    {
      "cell_type": "code",
      "execution_count": 13,
      "metadata": {},
      "outputs": [
        {
          "output_type": "execute_result",
          "data": {
            "text/plain": "      Bedrooms  Bathrooms                      Address Land area       CV  \\\n1046         4        1.0  19 Landscape Road, Auckland   1368 m²   670000   \n1047         6        1.0   56 Galway Street, Auckland    607 m²  1200000   \n1048         5        3.0      28A Hayr Road, Auckland    453 m²  1250000   \n1049         5        2.0     27 Market Road, Auckland   1854 m²  5300000   \n1050         3        1.0  23 William Avenue, Auckland    806 m²  1665000   \n\n       Latitude   Longitude      SA1  0-19 years  20-29 years  30-39 years  \\\n1046 -36.899255  174.761165  7005464          54           18           15   \n1047 -36.844933  174.770001  7005497          15           27           24   \n1048 -36.912242  174.756726  7007758          36           30           45   \n1049 -36.879665  174.787668  7005745          48           18           12   \n1050 -36.897104  174.800171  7005917          54           33           27   \n\n      40-49 years  50-59 years  60+ years           Suburbs  NZDep2018  \\\n1046           24           21         27        Mount Eden        1.0   \n1047           15           18         30  Auckland Central        6.0   \n1048           21           24         21       Three Kings        6.0   \n1049           15           36         45           Remuera        1.0   \n1050           27           15         30         Greenlane        4.0   \n\n      URPopnSA1_2018  Population18  \n1046             159           159  \n1047             129           129  \n1048             180           180  \n1049             174           174  \n1050             192           192  ",
            "text/html": "<div>\n<style scoped>\n    .dataframe tbody tr th:only-of-type {\n        vertical-align: middle;\n    }\n\n    .dataframe tbody tr th {\n        vertical-align: top;\n    }\n\n    .dataframe thead th {\n        text-align: right;\n    }\n</style>\n<table border=\"1\" class=\"dataframe\">\n  <thead>\n    <tr style=\"text-align: right;\">\n      <th></th>\n      <th>Bedrooms</th>\n      <th>Bathrooms</th>\n      <th>Address</th>\n      <th>Land area</th>\n      <th>CV</th>\n      <th>Latitude</th>\n      <th>Longitude</th>\n      <th>SA1</th>\n      <th>0-19 years</th>\n      <th>20-29 years</th>\n      <th>30-39 years</th>\n      <th>40-49 years</th>\n      <th>50-59 years</th>\n      <th>60+ years</th>\n      <th>Suburbs</th>\n      <th>NZDep2018</th>\n      <th>URPopnSA1_2018</th>\n      <th>Population18</th>\n    </tr>\n  </thead>\n  <tbody>\n    <tr>\n      <th>1046</th>\n      <td>4</td>\n      <td>1.0</td>\n      <td>19 Landscape Road, Auckland</td>\n      <td>1368 m²</td>\n      <td>670000</td>\n      <td>-36.899255</td>\n      <td>174.761165</td>\n      <td>7005464</td>\n      <td>54</td>\n      <td>18</td>\n      <td>15</td>\n      <td>24</td>\n      <td>21</td>\n      <td>27</td>\n      <td>Mount Eden</td>\n      <td>1.0</td>\n      <td>159</td>\n      <td>159</td>\n    </tr>\n    <tr>\n      <th>1047</th>\n      <td>6</td>\n      <td>1.0</td>\n      <td>56 Galway Street, Auckland</td>\n      <td>607 m²</td>\n      <td>1200000</td>\n      <td>-36.844933</td>\n      <td>174.770001</td>\n      <td>7005497</td>\n      <td>15</td>\n      <td>27</td>\n      <td>24</td>\n      <td>15</td>\n      <td>18</td>\n      <td>30</td>\n      <td>Auckland Central</td>\n      <td>6.0</td>\n      <td>129</td>\n      <td>129</td>\n    </tr>\n    <tr>\n      <th>1048</th>\n      <td>5</td>\n      <td>3.0</td>\n      <td>28A Hayr Road, Auckland</td>\n      <td>453 m²</td>\n      <td>1250000</td>\n      <td>-36.912242</td>\n      <td>174.756726</td>\n      <td>7007758</td>\n      <td>36</td>\n      <td>30</td>\n      <td>45</td>\n      <td>21</td>\n      <td>24</td>\n      <td>21</td>\n      <td>Three Kings</td>\n      <td>6.0</td>\n      <td>180</td>\n      <td>180</td>\n    </tr>\n    <tr>\n      <th>1049</th>\n      <td>5</td>\n      <td>2.0</td>\n      <td>27 Market Road, Auckland</td>\n      <td>1854 m²</td>\n      <td>5300000</td>\n      <td>-36.879665</td>\n      <td>174.787668</td>\n      <td>7005745</td>\n      <td>48</td>\n      <td>18</td>\n      <td>12</td>\n      <td>15</td>\n      <td>36</td>\n      <td>45</td>\n      <td>Remuera</td>\n      <td>1.0</td>\n      <td>174</td>\n      <td>174</td>\n    </tr>\n    <tr>\n      <th>1050</th>\n      <td>3</td>\n      <td>1.0</td>\n      <td>23 William Avenue, Auckland</td>\n      <td>806 m²</td>\n      <td>1665000</td>\n      <td>-36.897104</td>\n      <td>174.800171</td>\n      <td>7005917</td>\n      <td>54</td>\n      <td>33</td>\n      <td>27</td>\n      <td>27</td>\n      <td>15</td>\n      <td>30</td>\n      <td>Greenlane</td>\n      <td>4.0</td>\n      <td>192</td>\n      <td>192</td>\n    </tr>\n  </tbody>\n</table>\n</div>"
          },
          "metadata": {},
          "execution_count": 13
        }
      ],
      "source": [
        "df.tail()"
      ]
    },
    {
      "cell_type": "markdown",
      "metadata": {},
      "source": [
        "###Start cleaning up data"
      ]
    },
    {
      "cell_type": "code",
      "execution_count": 14,
      "metadata": {},
      "outputs": [
        {
          "output_type": "execute_result",
          "data": {
            "text/plain": "     Bedrooms  Bathrooms                                            Address  \\\n309         4        NaN                  14 Hea Road Hobsonville, Auckland   \n311         4        NaN                  16 Hea Road Hobsonville, Auckland   \n568         1        1.0  14 Te Rangitawhiri Road Great Barrier Island, ...   \n\n    Land area       CV   Latitude   Longitude      SA1  0-19 years  \\\n309       214  1250000 -36.798371  174.647430  7002267          60   \n311       245  1100000 -36.798371  174.647430  7002267          60   \n568      2141   740000 -36.197282  175.416921  7001131          27   \n\n     20-29 years  30-39 years  40-49 years  50-59 years  60+ years  \\\n309           66           60           24           24         18   \n311           66           60           24           24         18   \n568            6            6           18           39         60   \n\n         Suburbs  NZDep2018  URPopnSA1_2018  Population18  \n309  Hobsonville        2.0             252           252  \n311  Hobsonville        2.0             252           252  \n568          NaN        9.0             156           156  ",
            "text/html": "<div>\n<style scoped>\n    .dataframe tbody tr th:only-of-type {\n        vertical-align: middle;\n    }\n\n    .dataframe tbody tr th {\n        vertical-align: top;\n    }\n\n    .dataframe thead th {\n        text-align: right;\n    }\n</style>\n<table border=\"1\" class=\"dataframe\">\n  <thead>\n    <tr style=\"text-align: right;\">\n      <th></th>\n      <th>Bedrooms</th>\n      <th>Bathrooms</th>\n      <th>Address</th>\n      <th>Land area</th>\n      <th>CV</th>\n      <th>Latitude</th>\n      <th>Longitude</th>\n      <th>SA1</th>\n      <th>0-19 years</th>\n      <th>20-29 years</th>\n      <th>30-39 years</th>\n      <th>40-49 years</th>\n      <th>50-59 years</th>\n      <th>60+ years</th>\n      <th>Suburbs</th>\n      <th>NZDep2018</th>\n      <th>URPopnSA1_2018</th>\n      <th>Population18</th>\n    </tr>\n  </thead>\n  <tbody>\n    <tr>\n      <th>309</th>\n      <td>4</td>\n      <td>NaN</td>\n      <td>14 Hea Road Hobsonville, Auckland</td>\n      <td>214</td>\n      <td>1250000</td>\n      <td>-36.798371</td>\n      <td>174.647430</td>\n      <td>7002267</td>\n      <td>60</td>\n      <td>66</td>\n      <td>60</td>\n      <td>24</td>\n      <td>24</td>\n      <td>18</td>\n      <td>Hobsonville</td>\n      <td>2.0</td>\n      <td>252</td>\n      <td>252</td>\n    </tr>\n    <tr>\n      <th>311</th>\n      <td>4</td>\n      <td>NaN</td>\n      <td>16 Hea Road Hobsonville, Auckland</td>\n      <td>245</td>\n      <td>1100000</td>\n      <td>-36.798371</td>\n      <td>174.647430</td>\n      <td>7002267</td>\n      <td>60</td>\n      <td>66</td>\n      <td>60</td>\n      <td>24</td>\n      <td>24</td>\n      <td>18</td>\n      <td>Hobsonville</td>\n      <td>2.0</td>\n      <td>252</td>\n      <td>252</td>\n    </tr>\n    <tr>\n      <th>568</th>\n      <td>1</td>\n      <td>1.0</td>\n      <td>14 Te Rangitawhiri Road Great Barrier Island, ...</td>\n      <td>2141</td>\n      <td>740000</td>\n      <td>-36.197282</td>\n      <td>175.416921</td>\n      <td>7001131</td>\n      <td>27</td>\n      <td>6</td>\n      <td>6</td>\n      <td>18</td>\n      <td>39</td>\n      <td>60</td>\n      <td>NaN</td>\n      <td>9.0</td>\n      <td>156</td>\n      <td>156</td>\n    </tr>\n  </tbody>\n</table>\n</div>"
          },
          "metadata": {},
          "execution_count": 14
        }
      ],
      "source": [
        "df.loc[df.isnull().any(axis=1)]"
      ]
    },
    {
      "cell_type": "code",
      "execution_count": 15,
      "metadata": {},
      "outputs": [],
      "source": [
        "# replace the only NaN suburb with same suburb name as another house in the same street\n",
        "df.loc[df['Suburbs'].isnull(), 'Suburbs'] = 'Great Barrier Island (Aotea Island)'"
      ]
    },
    {
      "cell_type": "code",
      "execution_count": 16,
      "metadata": {},
      "outputs": [
        {
          "output_type": "execute_result",
          "data": {
            "text/plain": "     Bedrooms  Bathrooms                                            Address  \\\n496         3        1.0  236 Kaiaraara Bay Road Great Barrier Island, A...   \n568         1        1.0  14 Te Rangitawhiri Road Great Barrier Island, ...   \n569         5        3.0  349 Blind Bay Road Great Barrier Island, Auckland   \n731         2        2.0      8 Omanawa Lane Great Barrier Island, Auckland   \n\n    Land area      CV   Latitude   Longitude      SA1  0-19 years  \\\n496      5638  580000 -36.177655  175.359070  7001130          39   \n568      2141  740000 -36.197282  175.416921  7001131          27   \n569      3953  920000 -36.257895  175.436448  7001131          27   \n731      8638  650000 -36.305955  175.492424  7001135          30   \n\n     20-29 years  30-39 years  40-49 years  50-59 years  60+ years  \\\n496            9           18           24           24         42   \n568            6            6           18           39         60   \n569            6            6           18           39         60   \n731           21           21           21           39         69   \n\n                                 Suburbs  NZDep2018  URPopnSA1_2018  \\\n496  Great Barrier Island (Aotea Island)        9.0             153   \n568  Great Barrier Island (Aotea Island)        9.0             156   \n569  Great Barrier Island (Aotea Island)        9.0             156   \n731  Great Barrier Island (Aotea Island)        9.0             201   \n\n     Population18  \n496           153  \n568           156  \n569           156  \n731           201  ",
            "text/html": "<div>\n<style scoped>\n    .dataframe tbody tr th:only-of-type {\n        vertical-align: middle;\n    }\n\n    .dataframe tbody tr th {\n        vertical-align: top;\n    }\n\n    .dataframe thead th {\n        text-align: right;\n    }\n</style>\n<table border=\"1\" class=\"dataframe\">\n  <thead>\n    <tr style=\"text-align: right;\">\n      <th></th>\n      <th>Bedrooms</th>\n      <th>Bathrooms</th>\n      <th>Address</th>\n      <th>Land area</th>\n      <th>CV</th>\n      <th>Latitude</th>\n      <th>Longitude</th>\n      <th>SA1</th>\n      <th>0-19 years</th>\n      <th>20-29 years</th>\n      <th>30-39 years</th>\n      <th>40-49 years</th>\n      <th>50-59 years</th>\n      <th>60+ years</th>\n      <th>Suburbs</th>\n      <th>NZDep2018</th>\n      <th>URPopnSA1_2018</th>\n      <th>Population18</th>\n    </tr>\n  </thead>\n  <tbody>\n    <tr>\n      <th>496</th>\n      <td>3</td>\n      <td>1.0</td>\n      <td>236 Kaiaraara Bay Road Great Barrier Island, A...</td>\n      <td>5638</td>\n      <td>580000</td>\n      <td>-36.177655</td>\n      <td>175.359070</td>\n      <td>7001130</td>\n      <td>39</td>\n      <td>9</td>\n      <td>18</td>\n      <td>24</td>\n      <td>24</td>\n      <td>42</td>\n      <td>Great Barrier Island (Aotea Island)</td>\n      <td>9.0</td>\n      <td>153</td>\n      <td>153</td>\n    </tr>\n    <tr>\n      <th>568</th>\n      <td>1</td>\n      <td>1.0</td>\n      <td>14 Te Rangitawhiri Road Great Barrier Island, ...</td>\n      <td>2141</td>\n      <td>740000</td>\n      <td>-36.197282</td>\n      <td>175.416921</td>\n      <td>7001131</td>\n      <td>27</td>\n      <td>6</td>\n      <td>6</td>\n      <td>18</td>\n      <td>39</td>\n      <td>60</td>\n      <td>Great Barrier Island (Aotea Island)</td>\n      <td>9.0</td>\n      <td>156</td>\n      <td>156</td>\n    </tr>\n    <tr>\n      <th>569</th>\n      <td>5</td>\n      <td>3.0</td>\n      <td>349 Blind Bay Road Great Barrier Island, Auckland</td>\n      <td>3953</td>\n      <td>920000</td>\n      <td>-36.257895</td>\n      <td>175.436448</td>\n      <td>7001131</td>\n      <td>27</td>\n      <td>6</td>\n      <td>6</td>\n      <td>18</td>\n      <td>39</td>\n      <td>60</td>\n      <td>Great Barrier Island (Aotea Island)</td>\n      <td>9.0</td>\n      <td>156</td>\n      <td>156</td>\n    </tr>\n    <tr>\n      <th>731</th>\n      <td>2</td>\n      <td>2.0</td>\n      <td>8 Omanawa Lane Great Barrier Island, Auckland</td>\n      <td>8638</td>\n      <td>650000</td>\n      <td>-36.305955</td>\n      <td>175.492424</td>\n      <td>7001135</td>\n      <td>30</td>\n      <td>21</td>\n      <td>21</td>\n      <td>21</td>\n      <td>39</td>\n      <td>69</td>\n      <td>Great Barrier Island (Aotea Island)</td>\n      <td>9.0</td>\n      <td>201</td>\n      <td>201</td>\n    </tr>\n  </tbody>\n</table>\n</div>"
          },
          "metadata": {},
          "execution_count": 16
        }
      ],
      "source": [
        "df.loc[df['Suburbs']=='Great Barrier Island (Aotea Island)']"
      ]
    },
    {
      "cell_type": "code",
      "execution_count": 17,
      "metadata": {},
      "outputs": [
        {
          "output_type": "execute_result",
          "data": {
            "text/plain": "     Bedrooms  Bathrooms                                  Address Land area  \\\n223         4        2.0  10 Eyton Kay Road Hobsonville, Auckland       161   \n309         4        NaN        14 Hea Road Hobsonville, Auckland       214   \n310         4        2.0        12 Hea Road Hobsonville, Auckland       191   \n311         4        NaN        16 Hea Road Hobsonville, Auckland       245   \n449         5        4.0     10 Mantis Lane Hobsonville, Auckland       336   \n460         4        2.0   12 Williams Road Hobsonville, Auckland       450   \n666         3        2.0     17 Kanuka Road Hobsonville, Auckland       259   \n\n          CV   Latitude   Longitude      SA1  0-19 years  20-29 years  \\\n223   860000 -36.795951  174.655930  7002301          51           36   \n309  1250000 -36.798371  174.647430  7002267          60           66   \n310   530000 -36.798371  174.647430  7002267          60           66   \n311  1100000 -36.798371  174.647430  7002267          60           66   \n449   545000 -36.801329  174.666149  7002304          33           30   \n460  1125000 -36.800550  174.645182  7002271          12           12   \n666   920000 -36.793782  174.660944  7002295          45           24   \n\n     30-39 years  40-49 years  50-59 years  60+ years      Suburbs  NZDep2018  \\\n223           57           18            6         12  Hobsonville        1.0   \n309           60           24           24         18  Hobsonville        2.0   \n310           60           24           24         18  Hobsonville        2.0   \n311           60           24           24         18  Hobsonville        2.0   \n449           24           15           12         18  Hobsonville        4.0   \n460            9            6            9         75  Hobsonville        7.0   \n666           48           15            6         12  Hobsonville        2.0   \n\n     URPopnSA1_2018  Population18  \n223             174           174  \n309             252           252  \n310             252           252  \n311             252           252  \n449             135           135  \n460             129           129  \n666             147           147  ",
            "text/html": "<div>\n<style scoped>\n    .dataframe tbody tr th:only-of-type {\n        vertical-align: middle;\n    }\n\n    .dataframe tbody tr th {\n        vertical-align: top;\n    }\n\n    .dataframe thead th {\n        text-align: right;\n    }\n</style>\n<table border=\"1\" class=\"dataframe\">\n  <thead>\n    <tr style=\"text-align: right;\">\n      <th></th>\n      <th>Bedrooms</th>\n      <th>Bathrooms</th>\n      <th>Address</th>\n      <th>Land area</th>\n      <th>CV</th>\n      <th>Latitude</th>\n      <th>Longitude</th>\n      <th>SA1</th>\n      <th>0-19 years</th>\n      <th>20-29 years</th>\n      <th>30-39 years</th>\n      <th>40-49 years</th>\n      <th>50-59 years</th>\n      <th>60+ years</th>\n      <th>Suburbs</th>\n      <th>NZDep2018</th>\n      <th>URPopnSA1_2018</th>\n      <th>Population18</th>\n    </tr>\n  </thead>\n  <tbody>\n    <tr>\n      <th>223</th>\n      <td>4</td>\n      <td>2.0</td>\n      <td>10 Eyton Kay Road Hobsonville, Auckland</td>\n      <td>161</td>\n      <td>860000</td>\n      <td>-36.795951</td>\n      <td>174.655930</td>\n      <td>7002301</td>\n      <td>51</td>\n      <td>36</td>\n      <td>57</td>\n      <td>18</td>\n      <td>6</td>\n      <td>12</td>\n      <td>Hobsonville</td>\n      <td>1.0</td>\n      <td>174</td>\n      <td>174</td>\n    </tr>\n    <tr>\n      <th>309</th>\n      <td>4</td>\n      <td>NaN</td>\n      <td>14 Hea Road Hobsonville, Auckland</td>\n      <td>214</td>\n      <td>1250000</td>\n      <td>-36.798371</td>\n      <td>174.647430</td>\n      <td>7002267</td>\n      <td>60</td>\n      <td>66</td>\n      <td>60</td>\n      <td>24</td>\n      <td>24</td>\n      <td>18</td>\n      <td>Hobsonville</td>\n      <td>2.0</td>\n      <td>252</td>\n      <td>252</td>\n    </tr>\n    <tr>\n      <th>310</th>\n      <td>4</td>\n      <td>2.0</td>\n      <td>12 Hea Road Hobsonville, Auckland</td>\n      <td>191</td>\n      <td>530000</td>\n      <td>-36.798371</td>\n      <td>174.647430</td>\n      <td>7002267</td>\n      <td>60</td>\n      <td>66</td>\n      <td>60</td>\n      <td>24</td>\n      <td>24</td>\n      <td>18</td>\n      <td>Hobsonville</td>\n      <td>2.0</td>\n      <td>252</td>\n      <td>252</td>\n    </tr>\n    <tr>\n      <th>311</th>\n      <td>4</td>\n      <td>NaN</td>\n      <td>16 Hea Road Hobsonville, Auckland</td>\n      <td>245</td>\n      <td>1100000</td>\n      <td>-36.798371</td>\n      <td>174.647430</td>\n      <td>7002267</td>\n      <td>60</td>\n      <td>66</td>\n      <td>60</td>\n      <td>24</td>\n      <td>24</td>\n      <td>18</td>\n      <td>Hobsonville</td>\n      <td>2.0</td>\n      <td>252</td>\n      <td>252</td>\n    </tr>\n    <tr>\n      <th>449</th>\n      <td>5</td>\n      <td>4.0</td>\n      <td>10 Mantis Lane Hobsonville, Auckland</td>\n      <td>336</td>\n      <td>545000</td>\n      <td>-36.801329</td>\n      <td>174.666149</td>\n      <td>7002304</td>\n      <td>33</td>\n      <td>30</td>\n      <td>24</td>\n      <td>15</td>\n      <td>12</td>\n      <td>18</td>\n      <td>Hobsonville</td>\n      <td>4.0</td>\n      <td>135</td>\n      <td>135</td>\n    </tr>\n    <tr>\n      <th>460</th>\n      <td>4</td>\n      <td>2.0</td>\n      <td>12 Williams Road Hobsonville, Auckland</td>\n      <td>450</td>\n      <td>1125000</td>\n      <td>-36.800550</td>\n      <td>174.645182</td>\n      <td>7002271</td>\n      <td>12</td>\n      <td>12</td>\n      <td>9</td>\n      <td>6</td>\n      <td>9</td>\n      <td>75</td>\n      <td>Hobsonville</td>\n      <td>7.0</td>\n      <td>129</td>\n      <td>129</td>\n    </tr>\n    <tr>\n      <th>666</th>\n      <td>3</td>\n      <td>2.0</td>\n      <td>17 Kanuka Road Hobsonville, Auckland</td>\n      <td>259</td>\n      <td>920000</td>\n      <td>-36.793782</td>\n      <td>174.660944</td>\n      <td>7002295</td>\n      <td>45</td>\n      <td>24</td>\n      <td>48</td>\n      <td>15</td>\n      <td>6</td>\n      <td>12</td>\n      <td>Hobsonville</td>\n      <td>2.0</td>\n      <td>147</td>\n      <td>147</td>\n    </tr>\n  </tbody>\n</table>\n</div>"
          },
          "metadata": {},
          "execution_count": 17
        }
      ],
      "source": [
        "df.loc[df['Suburbs'] == 'Hobsonville']"
      ]
    },
    {
      "cell_type": "code",
      "execution_count": 18,
      "metadata": {},
      "outputs": [
        {
          "output_type": "execute_result",
          "data": {
            "text/plain": "       Bedrooms   Bathrooms            CV    Latitude   Longitude  \\\ncount     353.0  351.000000  3.530000e+02  353.000000  353.000000   \nmean        4.0    2.213675  1.455133e+06  -36.903300  174.793559   \nstd         0.0    0.690702  1.021287e+06    0.127020    0.113575   \nmin         4.0    1.000000  3.000000e+05  -37.262183  174.456874   \n25%         4.0    2.000000  8.900000e+05  -36.953018  174.711737   \n50%         4.0    2.000000  1.175000e+06  -36.895269  174.796671   \n75%         4.0    3.000000  1.700000e+06  -36.857708  174.881395   \nmax         4.0    5.000000  9.000000e+06  -36.409687  175.083269   \n\n                SA1  0-19 years  20-29 years  30-39 years  40-49 years  \\\ncount  3.530000e+02  353.000000   353.000000   353.000000   353.000000   \nmean   7.006392e+06   49.181303    27.348442    26.974504    24.960340   \nstd    2.628052e+03   26.052634    17.475481    19.024115    11.303087   \nmin    7.001308e+06    0.000000     0.000000     0.000000     0.000000   \n25%    7.004427e+06   33.000000    15.000000    15.000000    18.000000   \n50%    7.006418e+06   45.000000    24.000000    24.000000    24.000000   \n75%    7.008270e+06   57.000000    33.000000    36.000000    30.000000   \nmax    7.011028e+06  201.000000   138.000000   168.000000   114.000000   \n\n       50-59 years   60+ years   NZDep2018  URPopnSA1_2018  Population18  \ncount   353.000000  353.000000  353.000000      353.000000    353.000000  \nmean     23.830028   30.645892    4.368272      183.127479    183.127479  \nstd      10.002244   28.538388    2.801240       75.654817     75.654817  \nmin       0.000000    0.000000    1.000000       18.000000     18.000000  \n25%      18.000000   21.000000    2.000000      141.000000    141.000000  \n50%      24.000000   27.000000    4.000000      171.000000    171.000000  \n75%      30.000000   39.000000    6.000000      213.000000    213.000000  \nmax      81.000000  483.000000   10.000000      789.000000    789.000000  ",
            "text/html": "<div>\n<style scoped>\n    .dataframe tbody tr th:only-of-type {\n        vertical-align: middle;\n    }\n\n    .dataframe tbody tr th {\n        vertical-align: top;\n    }\n\n    .dataframe thead th {\n        text-align: right;\n    }\n</style>\n<table border=\"1\" class=\"dataframe\">\n  <thead>\n    <tr style=\"text-align: right;\">\n      <th></th>\n      <th>Bedrooms</th>\n      <th>Bathrooms</th>\n      <th>CV</th>\n      <th>Latitude</th>\n      <th>Longitude</th>\n      <th>SA1</th>\n      <th>0-19 years</th>\n      <th>20-29 years</th>\n      <th>30-39 years</th>\n      <th>40-49 years</th>\n      <th>50-59 years</th>\n      <th>60+ years</th>\n      <th>NZDep2018</th>\n      <th>URPopnSA1_2018</th>\n      <th>Population18</th>\n    </tr>\n  </thead>\n  <tbody>\n    <tr>\n      <th>count</th>\n      <td>353.0</td>\n      <td>351.000000</td>\n      <td>3.530000e+02</td>\n      <td>353.000000</td>\n      <td>353.000000</td>\n      <td>3.530000e+02</td>\n      <td>353.000000</td>\n      <td>353.000000</td>\n      <td>353.000000</td>\n      <td>353.000000</td>\n      <td>353.000000</td>\n      <td>353.000000</td>\n      <td>353.000000</td>\n      <td>353.000000</td>\n      <td>353.000000</td>\n    </tr>\n    <tr>\n      <th>mean</th>\n      <td>4.0</td>\n      <td>2.213675</td>\n      <td>1.455133e+06</td>\n      <td>-36.903300</td>\n      <td>174.793559</td>\n      <td>7.006392e+06</td>\n      <td>49.181303</td>\n      <td>27.348442</td>\n      <td>26.974504</td>\n      <td>24.960340</td>\n      <td>23.830028</td>\n      <td>30.645892</td>\n      <td>4.368272</td>\n      <td>183.127479</td>\n      <td>183.127479</td>\n    </tr>\n    <tr>\n      <th>std</th>\n      <td>0.0</td>\n      <td>0.690702</td>\n      <td>1.021287e+06</td>\n      <td>0.127020</td>\n      <td>0.113575</td>\n      <td>2.628052e+03</td>\n      <td>26.052634</td>\n      <td>17.475481</td>\n      <td>19.024115</td>\n      <td>11.303087</td>\n      <td>10.002244</td>\n      <td>28.538388</td>\n      <td>2.801240</td>\n      <td>75.654817</td>\n      <td>75.654817</td>\n    </tr>\n    <tr>\n      <th>min</th>\n      <td>4.0</td>\n      <td>1.000000</td>\n      <td>3.000000e+05</td>\n      <td>-37.262183</td>\n      <td>174.456874</td>\n      <td>7.001308e+06</td>\n      <td>0.000000</td>\n      <td>0.000000</td>\n      <td>0.000000</td>\n      <td>0.000000</td>\n      <td>0.000000</td>\n      <td>0.000000</td>\n      <td>1.000000</td>\n      <td>18.000000</td>\n      <td>18.000000</td>\n    </tr>\n    <tr>\n      <th>25%</th>\n      <td>4.0</td>\n      <td>2.000000</td>\n      <td>8.900000e+05</td>\n      <td>-36.953018</td>\n      <td>174.711737</td>\n      <td>7.004427e+06</td>\n      <td>33.000000</td>\n      <td>15.000000</td>\n      <td>15.000000</td>\n      <td>18.000000</td>\n      <td>18.000000</td>\n      <td>21.000000</td>\n      <td>2.000000</td>\n      <td>141.000000</td>\n      <td>141.000000</td>\n    </tr>\n    <tr>\n      <th>50%</th>\n      <td>4.0</td>\n      <td>2.000000</td>\n      <td>1.175000e+06</td>\n      <td>-36.895269</td>\n      <td>174.796671</td>\n      <td>7.006418e+06</td>\n      <td>45.000000</td>\n      <td>24.000000</td>\n      <td>24.000000</td>\n      <td>24.000000</td>\n      <td>24.000000</td>\n      <td>27.000000</td>\n      <td>4.000000</td>\n      <td>171.000000</td>\n      <td>171.000000</td>\n    </tr>\n    <tr>\n      <th>75%</th>\n      <td>4.0</td>\n      <td>3.000000</td>\n      <td>1.700000e+06</td>\n      <td>-36.857708</td>\n      <td>174.881395</td>\n      <td>7.008270e+06</td>\n      <td>57.000000</td>\n      <td>33.000000</td>\n      <td>36.000000</td>\n      <td>30.000000</td>\n      <td>30.000000</td>\n      <td>39.000000</td>\n      <td>6.000000</td>\n      <td>213.000000</td>\n      <td>213.000000</td>\n    </tr>\n    <tr>\n      <th>max</th>\n      <td>4.0</td>\n      <td>5.000000</td>\n      <td>9.000000e+06</td>\n      <td>-36.409687</td>\n      <td>175.083269</td>\n      <td>7.011028e+06</td>\n      <td>201.000000</td>\n      <td>138.000000</td>\n      <td>168.000000</td>\n      <td>114.000000</td>\n      <td>81.000000</td>\n      <td>483.000000</td>\n      <td>10.000000</td>\n      <td>789.000000</td>\n      <td>789.000000</td>\n    </tr>\n  </tbody>\n</table>\n</div>"
          },
          "metadata": {},
          "execution_count": 18
        }
      ],
      "source": [
        "df.loc[df['Bedrooms'] ==4].describe()"
      ]
    },
    {
      "cell_type": "code",
      "execution_count": 19,
      "metadata": {},
      "outputs": [],
      "source": [
        "# replace the number of bathroom for NaN values to be 2 since it's the only value in the suburb with 4 bedrooms, also the global median and mean when there are 4 bedrooms is exactly or close to 2.\n",
        "df.loc[df['Bathrooms'].isnull(), 'Bathrooms'] = 2"
      ]
    },
    {
      "cell_type": "code",
      "execution_count": 20,
      "metadata": {},
      "outputs": [
        {
          "output_type": "execute_result",
          "data": {
            "text/plain": "   Bedrooms  Bathrooms                                    Address Land area  \\\n0         5        3.0  106 Lawrence Crescent Hill Park, Auckland       714   \n1         5        3.0             8 Corsica Way Karaka, Auckland       564   \n2         6        4.0     243 Harbourside Drive Karaka, Auckland       626   \n3         2        1.0  2/30 Hardington Street Onehunga, Auckland        65   \n4         3        1.0     59 Israel Avenue Clover Park, Auckland       601   \n\n        CV   Latitude   Longitude      SA1  0-19 years  20-29 years  \\\n0   960000 -37.012920  174.904069  7009770          48           27   \n1  1250000 -37.063672  174.922912  7009991          42           18   \n2  1250000 -37.063580  174.924044  7009991          42           18   \n3   740000 -36.912996  174.787425  7007871          42            6   \n4   630000 -36.979037  174.892612  7008902          93           27   \n\n   30-39 years  40-49 years  50-59 years  60+ years      Suburbs  NZDep2018  \\\n0           24           21           24         21     Manurewa        6.0   \n1           12           21           15         30       Karaka        1.0   \n2           12           21           15         30       Karaka        1.0   \n3           21           21           12         15     Onehunga        2.0   \n4           33           30           21         33  Clover Park        9.0   \n\n   URPopnSA1_2018  Population18  \n0             174           174  \n1             129           129  \n2             129           129  \n3             120           120  \n4             231           231  ",
            "text/html": "<div>\n<style scoped>\n    .dataframe tbody tr th:only-of-type {\n        vertical-align: middle;\n    }\n\n    .dataframe tbody tr th {\n        vertical-align: top;\n    }\n\n    .dataframe thead th {\n        text-align: right;\n    }\n</style>\n<table border=\"1\" class=\"dataframe\">\n  <thead>\n    <tr style=\"text-align: right;\">\n      <th></th>\n      <th>Bedrooms</th>\n      <th>Bathrooms</th>\n      <th>Address</th>\n      <th>Land area</th>\n      <th>CV</th>\n      <th>Latitude</th>\n      <th>Longitude</th>\n      <th>SA1</th>\n      <th>0-19 years</th>\n      <th>20-29 years</th>\n      <th>30-39 years</th>\n      <th>40-49 years</th>\n      <th>50-59 years</th>\n      <th>60+ years</th>\n      <th>Suburbs</th>\n      <th>NZDep2018</th>\n      <th>URPopnSA1_2018</th>\n      <th>Population18</th>\n    </tr>\n  </thead>\n  <tbody>\n    <tr>\n      <th>0</th>\n      <td>5</td>\n      <td>3.0</td>\n      <td>106 Lawrence Crescent Hill Park, Auckland</td>\n      <td>714</td>\n      <td>960000</td>\n      <td>-37.012920</td>\n      <td>174.904069</td>\n      <td>7009770</td>\n      <td>48</td>\n      <td>27</td>\n      <td>24</td>\n      <td>21</td>\n      <td>24</td>\n      <td>21</td>\n      <td>Manurewa</td>\n      <td>6.0</td>\n      <td>174</td>\n      <td>174</td>\n    </tr>\n    <tr>\n      <th>1</th>\n      <td>5</td>\n      <td>3.0</td>\n      <td>8 Corsica Way Karaka, Auckland</td>\n      <td>564</td>\n      <td>1250000</td>\n      <td>-37.063672</td>\n      <td>174.922912</td>\n      <td>7009991</td>\n      <td>42</td>\n      <td>18</td>\n      <td>12</td>\n      <td>21</td>\n      <td>15</td>\n      <td>30</td>\n      <td>Karaka</td>\n      <td>1.0</td>\n      <td>129</td>\n      <td>129</td>\n    </tr>\n    <tr>\n      <th>2</th>\n      <td>6</td>\n      <td>4.0</td>\n      <td>243 Harbourside Drive Karaka, Auckland</td>\n      <td>626</td>\n      <td>1250000</td>\n      <td>-37.063580</td>\n      <td>174.924044</td>\n      <td>7009991</td>\n      <td>42</td>\n      <td>18</td>\n      <td>12</td>\n      <td>21</td>\n      <td>15</td>\n      <td>30</td>\n      <td>Karaka</td>\n      <td>1.0</td>\n      <td>129</td>\n      <td>129</td>\n    </tr>\n    <tr>\n      <th>3</th>\n      <td>2</td>\n      <td>1.0</td>\n      <td>2/30 Hardington Street Onehunga, Auckland</td>\n      <td>65</td>\n      <td>740000</td>\n      <td>-36.912996</td>\n      <td>174.787425</td>\n      <td>7007871</td>\n      <td>42</td>\n      <td>6</td>\n      <td>21</td>\n      <td>21</td>\n      <td>12</td>\n      <td>15</td>\n      <td>Onehunga</td>\n      <td>2.0</td>\n      <td>120</td>\n      <td>120</td>\n    </tr>\n    <tr>\n      <th>4</th>\n      <td>3</td>\n      <td>1.0</td>\n      <td>59 Israel Avenue Clover Park, Auckland</td>\n      <td>601</td>\n      <td>630000</td>\n      <td>-36.979037</td>\n      <td>174.892612</td>\n      <td>7008902</td>\n      <td>93</td>\n      <td>27</td>\n      <td>33</td>\n      <td>30</td>\n      <td>21</td>\n      <td>33</td>\n      <td>Clover Park</td>\n      <td>9.0</td>\n      <td>231</td>\n      <td>231</td>\n    </tr>\n  </tbody>\n</table>\n</div>"
          },
          "metadata": {},
          "execution_count": 20
        }
      ],
      "source": [
        "df.head()"
      ]
    },
    {
      "cell_type": "code",
      "execution_count": 21,
      "metadata": {},
      "outputs": [
        {
          "output_type": "execute_result",
          "data": {
            "text/plain": "Bedrooms            int64\nBathrooms         float64\nAddress            object\nLand area          object\nCV                  int64\nLatitude          float64\nLongitude         float64\nSA1                 int64\n0-19 years          int64\n20-29 years         int64\n30-39 years         int64\n40-49 years         int64\n50-59 years         int64\n60+ years           int64\nSuburbs            object\nNZDep2018         float64\nURPopnSA1_2018      int64\nPopulation18        int64\ndtype: object"
          },
          "metadata": {},
          "execution_count": 21
        }
      ],
      "source": [
        "df.dtypes"
      ]
    },
    {
      "cell_type": "code",
      "execution_count": 22,
      "metadata": {},
      "outputs": [
        {
          "output_type": "execute_result",
          "data": {
            "text/plain": "<bound method Series.unique of 0           714\n1           564\n2           626\n3            65\n4           601\n         ...   \n1046    1368 m²\n1047     607 m²\n1048     453 m²\n1049    1854 m²\n1050     806 m²\nName: Land area, Length: 1051, dtype: object>"
          },
          "metadata": {},
          "execution_count": 22
        }
      ],
      "source": [
        "df['Land area'].unique"
      ]
    },
    {
      "cell_type": "code",
      "execution_count": 23,
      "metadata": {},
      "outputs": [],
      "source": [
        "df['Land area'] = df['Land area'].apply(lambda x: int(re.match(\"(\\d+)( .*)?\", x).group(1)))"
      ]
    },
    {
      "cell_type": "code",
      "execution_count": 24,
      "metadata": {},
      "outputs": [],
      "source": [
        "df['Bathrooms'] = df['Bathrooms'].astype('int64')"
      ]
    },
    {
      "cell_type": "code",
      "execution_count": 25,
      "metadata": {},
      "outputs": [
        {
          "output_type": "execute_result",
          "data": {
            "text/plain": "          Bedrooms    Bathrooms     Land area            CV     Latitude  \\\ncount  1051.000000  1051.000000   1051.000000  1.051000e+03  1051.000000   \nmean      3.777355     2.073264    856.989534  1.387521e+06   -36.893715   \nstd       1.169412     0.992044   1588.156219  1.182939e+06     0.130100   \nmin       1.000000     1.000000     40.000000  2.700000e+05   -37.265021   \n25%       3.000000     1.000000    321.000000  7.800000e+05   -36.950565   \n50%       4.000000     2.000000    571.000000  1.080000e+06   -36.893132   \n75%       4.000000     3.000000    825.000000  1.600000e+06   -36.855789   \nmax      17.000000     8.000000  22240.000000  1.800000e+07   -36.177655   \n\n         Longitude           SA1   0-19 years  20-29 years  30-39 years  \\\ncount  1051.000000  1.051000e+03  1051.000000  1051.000000  1051.000000   \nmean    174.799325  7.006319e+06    47.549001    28.963844    27.042816   \nstd       0.119538  2.591262e+03    24.692205    21.037441    17.975408   \nmin     174.317078  7.001130e+06     0.000000     0.000000     0.000000   \n25%     174.720779  7.004416e+06    33.000000    15.000000    15.000000   \n50%     174.798575  7.006325e+06    45.000000    24.000000    24.000000   \n75%     174.880944  7.008384e+06    57.000000    36.000000    33.000000   \nmax     175.492424  7.011028e+06   201.000000   270.000000   177.000000   \n\n       40-49 years  50-59 years    60+ years    NZDep2018  URPopnSA1_2018  \\\ncount  1051.000000  1051.000000  1051.000000  1051.000000     1051.000000   \nmean     24.125595    22.615604    29.360609     5.063749      179.914367   \nstd      10.942770    10.210578    21.805031     2.913471       71.059280   \nmin       0.000000     0.000000     0.000000     1.000000        3.000000   \n25%      18.000000    15.000000    18.000000     2.000000      138.000000   \n50%      24.000000    21.000000    27.000000     5.000000      174.000000   \n75%      30.000000    27.000000    36.000000     8.000000      210.000000   \nmax     114.000000    90.000000   483.000000    10.000000      789.000000   \n\n       Population18  \ncount   1051.000000  \nmean     179.914367  \nstd       71.059280  \nmin        3.000000  \n25%      138.000000  \n50%      174.000000  \n75%      210.000000  \nmax      789.000000  ",
            "text/html": "<div>\n<style scoped>\n    .dataframe tbody tr th:only-of-type {\n        vertical-align: middle;\n    }\n\n    .dataframe tbody tr th {\n        vertical-align: top;\n    }\n\n    .dataframe thead th {\n        text-align: right;\n    }\n</style>\n<table border=\"1\" class=\"dataframe\">\n  <thead>\n    <tr style=\"text-align: right;\">\n      <th></th>\n      <th>Bedrooms</th>\n      <th>Bathrooms</th>\n      <th>Land area</th>\n      <th>CV</th>\n      <th>Latitude</th>\n      <th>Longitude</th>\n      <th>SA1</th>\n      <th>0-19 years</th>\n      <th>20-29 years</th>\n      <th>30-39 years</th>\n      <th>40-49 years</th>\n      <th>50-59 years</th>\n      <th>60+ years</th>\n      <th>NZDep2018</th>\n      <th>URPopnSA1_2018</th>\n      <th>Population18</th>\n    </tr>\n  </thead>\n  <tbody>\n    <tr>\n      <th>count</th>\n      <td>1051.000000</td>\n      <td>1051.000000</td>\n      <td>1051.000000</td>\n      <td>1.051000e+03</td>\n      <td>1051.000000</td>\n      <td>1051.000000</td>\n      <td>1.051000e+03</td>\n      <td>1051.000000</td>\n      <td>1051.000000</td>\n      <td>1051.000000</td>\n      <td>1051.000000</td>\n      <td>1051.000000</td>\n      <td>1051.000000</td>\n      <td>1051.000000</td>\n      <td>1051.000000</td>\n      <td>1051.000000</td>\n    </tr>\n    <tr>\n      <th>mean</th>\n      <td>3.777355</td>\n      <td>2.073264</td>\n      <td>856.989534</td>\n      <td>1.387521e+06</td>\n      <td>-36.893715</td>\n      <td>174.799325</td>\n      <td>7.006319e+06</td>\n      <td>47.549001</td>\n      <td>28.963844</td>\n      <td>27.042816</td>\n      <td>24.125595</td>\n      <td>22.615604</td>\n      <td>29.360609</td>\n      <td>5.063749</td>\n      <td>179.914367</td>\n      <td>179.914367</td>\n    </tr>\n    <tr>\n      <th>std</th>\n      <td>1.169412</td>\n      <td>0.992044</td>\n      <td>1588.156219</td>\n      <td>1.182939e+06</td>\n      <td>0.130100</td>\n      <td>0.119538</td>\n      <td>2.591262e+03</td>\n      <td>24.692205</td>\n      <td>21.037441</td>\n      <td>17.975408</td>\n      <td>10.942770</td>\n      <td>10.210578</td>\n      <td>21.805031</td>\n      <td>2.913471</td>\n      <td>71.059280</td>\n      <td>71.059280</td>\n    </tr>\n    <tr>\n      <th>min</th>\n      <td>1.000000</td>\n      <td>1.000000</td>\n      <td>40.000000</td>\n      <td>2.700000e+05</td>\n      <td>-37.265021</td>\n      <td>174.317078</td>\n      <td>7.001130e+06</td>\n      <td>0.000000</td>\n      <td>0.000000</td>\n      <td>0.000000</td>\n      <td>0.000000</td>\n      <td>0.000000</td>\n      <td>0.000000</td>\n      <td>1.000000</td>\n      <td>3.000000</td>\n      <td>3.000000</td>\n    </tr>\n    <tr>\n      <th>25%</th>\n      <td>3.000000</td>\n      <td>1.000000</td>\n      <td>321.000000</td>\n      <td>7.800000e+05</td>\n      <td>-36.950565</td>\n      <td>174.720779</td>\n      <td>7.004416e+06</td>\n      <td>33.000000</td>\n      <td>15.000000</td>\n      <td>15.000000</td>\n      <td>18.000000</td>\n      <td>15.000000</td>\n      <td>18.000000</td>\n      <td>2.000000</td>\n      <td>138.000000</td>\n      <td>138.000000</td>\n    </tr>\n    <tr>\n      <th>50%</th>\n      <td>4.000000</td>\n      <td>2.000000</td>\n      <td>571.000000</td>\n      <td>1.080000e+06</td>\n      <td>-36.893132</td>\n      <td>174.798575</td>\n      <td>7.006325e+06</td>\n      <td>45.000000</td>\n      <td>24.000000</td>\n      <td>24.000000</td>\n      <td>24.000000</td>\n      <td>21.000000</td>\n      <td>27.000000</td>\n      <td>5.000000</td>\n      <td>174.000000</td>\n      <td>174.000000</td>\n    </tr>\n    <tr>\n      <th>75%</th>\n      <td>4.000000</td>\n      <td>3.000000</td>\n      <td>825.000000</td>\n      <td>1.600000e+06</td>\n      <td>-36.855789</td>\n      <td>174.880944</td>\n      <td>7.008384e+06</td>\n      <td>57.000000</td>\n      <td>36.000000</td>\n      <td>33.000000</td>\n      <td>30.000000</td>\n      <td>27.000000</td>\n      <td>36.000000</td>\n      <td>8.000000</td>\n      <td>210.000000</td>\n      <td>210.000000</td>\n    </tr>\n    <tr>\n      <th>max</th>\n      <td>17.000000</td>\n      <td>8.000000</td>\n      <td>22240.000000</td>\n      <td>1.800000e+07</td>\n      <td>-36.177655</td>\n      <td>175.492424</td>\n      <td>7.011028e+06</td>\n      <td>201.000000</td>\n      <td>270.000000</td>\n      <td>177.000000</td>\n      <td>114.000000</td>\n      <td>90.000000</td>\n      <td>483.000000</td>\n      <td>10.000000</td>\n      <td>789.000000</td>\n      <td>789.000000</td>\n    </tr>\n  </tbody>\n</table>\n</div>"
          },
          "metadata": {},
          "execution_count": 25
        }
      ],
      "source": [
        "df.describe()"
      ]
    },
    {
      "cell_type": "code",
      "execution_count": 26,
      "metadata": {},
      "outputs": [
        {
          "output_type": "execute_result",
          "data": {
            "text/plain": "     Bedrooms  Bathrooms                                 Address  Land area  \\\n228         4          2      74 Tarrant Road Waimauku, Auckland      15230   \n519         5          3        93 Popes Road Takanini, Auckland      20226   \n566         3          2    10 Goudie Road Helensville, Auckland      22240   \n662         3          1  358 Mangawhai Road Wellsford, Auckland      15550   \n\n          CV   Latitude   Longitude      SA1  0-19 years  20-29 years  \\\n228  1325000 -36.733890  174.456874  7001370          36           12   \n519  2975000 -37.028973  174.931330  7010010          51           24   \n566  1075000 -36.688850  174.388196  7001262          45           12   \n662   550000 -36.228742  174.545810  7001139          48           30   \n\n     30-39 years  40-49 years  50-59 years  60+ years      Suburbs  NZDep2018  \\\n228            9           24           21         18  Helensville        2.0   \n519           21           18           27         30     Takanini        9.0   \n566           15           27           27         39  Helensville        3.0   \n662           21           21           33         45    Wellsford        5.0   \n\n     URPopnSA1_2018  Population18  \n228             123           123  \n519             174           174  \n566             165           165  \n662             195           195  ",
            "text/html": "<div>\n<style scoped>\n    .dataframe tbody tr th:only-of-type {\n        vertical-align: middle;\n    }\n\n    .dataframe tbody tr th {\n        vertical-align: top;\n    }\n\n    .dataframe thead th {\n        text-align: right;\n    }\n</style>\n<table border=\"1\" class=\"dataframe\">\n  <thead>\n    <tr style=\"text-align: right;\">\n      <th></th>\n      <th>Bedrooms</th>\n      <th>Bathrooms</th>\n      <th>Address</th>\n      <th>Land area</th>\n      <th>CV</th>\n      <th>Latitude</th>\n      <th>Longitude</th>\n      <th>SA1</th>\n      <th>0-19 years</th>\n      <th>20-29 years</th>\n      <th>30-39 years</th>\n      <th>40-49 years</th>\n      <th>50-59 years</th>\n      <th>60+ years</th>\n      <th>Suburbs</th>\n      <th>NZDep2018</th>\n      <th>URPopnSA1_2018</th>\n      <th>Population18</th>\n    </tr>\n  </thead>\n  <tbody>\n    <tr>\n      <th>228</th>\n      <td>4</td>\n      <td>2</td>\n      <td>74 Tarrant Road Waimauku, Auckland</td>\n      <td>15230</td>\n      <td>1325000</td>\n      <td>-36.733890</td>\n      <td>174.456874</td>\n      <td>7001370</td>\n      <td>36</td>\n      <td>12</td>\n      <td>9</td>\n      <td>24</td>\n      <td>21</td>\n      <td>18</td>\n      <td>Helensville</td>\n      <td>2.0</td>\n      <td>123</td>\n      <td>123</td>\n    </tr>\n    <tr>\n      <th>519</th>\n      <td>5</td>\n      <td>3</td>\n      <td>93 Popes Road Takanini, Auckland</td>\n      <td>20226</td>\n      <td>2975000</td>\n      <td>-37.028973</td>\n      <td>174.931330</td>\n      <td>7010010</td>\n      <td>51</td>\n      <td>24</td>\n      <td>21</td>\n      <td>18</td>\n      <td>27</td>\n      <td>30</td>\n      <td>Takanini</td>\n      <td>9.0</td>\n      <td>174</td>\n      <td>174</td>\n    </tr>\n    <tr>\n      <th>566</th>\n      <td>3</td>\n      <td>2</td>\n      <td>10 Goudie Road Helensville, Auckland</td>\n      <td>22240</td>\n      <td>1075000</td>\n      <td>-36.688850</td>\n      <td>174.388196</td>\n      <td>7001262</td>\n      <td>45</td>\n      <td>12</td>\n      <td>15</td>\n      <td>27</td>\n      <td>27</td>\n      <td>39</td>\n      <td>Helensville</td>\n      <td>3.0</td>\n      <td>165</td>\n      <td>165</td>\n    </tr>\n    <tr>\n      <th>662</th>\n      <td>3</td>\n      <td>1</td>\n      <td>358 Mangawhai Road Wellsford, Auckland</td>\n      <td>15550</td>\n      <td>550000</td>\n      <td>-36.228742</td>\n      <td>174.545810</td>\n      <td>7001139</td>\n      <td>48</td>\n      <td>30</td>\n      <td>21</td>\n      <td>21</td>\n      <td>33</td>\n      <td>45</td>\n      <td>Wellsford</td>\n      <td>5.0</td>\n      <td>195</td>\n      <td>195</td>\n    </tr>\n  </tbody>\n</table>\n</div>"
          },
          "metadata": {},
          "execution_count": 26
        }
      ],
      "source": [
        "df.loc[df['Land area']>15000]\n",
        "# there doesn't seem to be any unusual data for land area"
      ]
    },
    {
      "cell_type": "code",
      "execution_count": 27,
      "metadata": {},
      "outputs": [
        {
          "output_type": "execute_result",
          "data": {
            "text/plain": "      Bedrooms  Bathrooms                                        Address  \\\n183          4          4                9 Darwin Lane Remuera, Auckland   \n184          4          4                9 Darwin Lane Remuera, Auckland   \n266          6          3           34d Arney Crescent Remuera, Auckland   \n306          2          2            223 Green Lane West Epsom, Auckland   \n421          5          4      15 Lammermoore Drive St Heliers, Auckland   \n441          4          3  7-9 Glen Atkinson Street St Heliers, Auckland   \n572          5          6   259 St Heliers Bay Road St Heliers, Auckland   \n582          4          5     379a Gordons Road Waiheke Island, Auckland   \n591          6          4          410 Pukapuka Road Mahurangi, Auckland   \n1029         6          4                        43 Arney Road, Auckland   \n1039         5          6                     57 Portland Road, Auckland   \n\n      Land area        CV   Latitude   Longitude      SA1  0-19 years  \\\n183        2718   9000000 -36.871836  174.813689  7005974          27   \n184        2718   9000000 -36.871836  174.813689  7005974          27   \n266         602   6400000 -36.869937  174.788921  7005846          36   \n306         123  18000000 -36.892772  174.779791  7005755           3   \n421        1998   7000000 -36.863985  174.851967  7006417          51   \n441        1750   6500000 -36.866175  174.849780  7006420          42   \n572        2268   6600000 -36.863925  174.853299  7006423          39   \n582         641   6400000 -36.829057  175.074283  7003389          30   \n591         607   6200000 -36.474573  174.693415  7001299          27   \n1029       3062  12250000 -36.872514  174.788572  7005696          60   \n1039       3565  12500000 -36.875552  174.795402  7005840          42   \n\n      20-29 years  30-39 years  40-49 years  50-59 years  60+ years  \\\n183            12            6           18           18         36   \n184            12            6           18           18         36   \n266             6            6           18           21         30   \n306             9           15            6           15         21   \n421            27            9           21           42         51   \n441            21           12           21           39         39   \n572            18           15           21           39         30   \n582             9           18           27           39         42   \n591            15           15           21           27         33   \n1029           12           15           27           24         33   \n1039            9            6           27           30         36   \n\n             Suburbs  NZDep2018  URPopnSA1_2018  Population18  \n183          Remuera        1.0             114           114  \n184          Remuera        1.0             114           114  \n266          Remuera        1.0             129           129  \n306            Epsom        4.0              60            60  \n421       St Heliers        1.0             192           192  \n441       St Heliers        1.0             174           174  \n572       St Heliers        1.0             165           165  \n582   Waiheke Island        4.0             168           168  \n591         Pohuehue        5.0             135           135  \n1029         Remuera        1.0             168           168  \n1039         Remuera        1.0             150           150  ",
            "text/html": "<div>\n<style scoped>\n    .dataframe tbody tr th:only-of-type {\n        vertical-align: middle;\n    }\n\n    .dataframe tbody tr th {\n        vertical-align: top;\n    }\n\n    .dataframe thead th {\n        text-align: right;\n    }\n</style>\n<table border=\"1\" class=\"dataframe\">\n  <thead>\n    <tr style=\"text-align: right;\">\n      <th></th>\n      <th>Bedrooms</th>\n      <th>Bathrooms</th>\n      <th>Address</th>\n      <th>Land area</th>\n      <th>CV</th>\n      <th>Latitude</th>\n      <th>Longitude</th>\n      <th>SA1</th>\n      <th>0-19 years</th>\n      <th>20-29 years</th>\n      <th>30-39 years</th>\n      <th>40-49 years</th>\n      <th>50-59 years</th>\n      <th>60+ years</th>\n      <th>Suburbs</th>\n      <th>NZDep2018</th>\n      <th>URPopnSA1_2018</th>\n      <th>Population18</th>\n    </tr>\n  </thead>\n  <tbody>\n    <tr>\n      <th>183</th>\n      <td>4</td>\n      <td>4</td>\n      <td>9 Darwin Lane Remuera, Auckland</td>\n      <td>2718</td>\n      <td>9000000</td>\n      <td>-36.871836</td>\n      <td>174.813689</td>\n      <td>7005974</td>\n      <td>27</td>\n      <td>12</td>\n      <td>6</td>\n      <td>18</td>\n      <td>18</td>\n      <td>36</td>\n      <td>Remuera</td>\n      <td>1.0</td>\n      <td>114</td>\n      <td>114</td>\n    </tr>\n    <tr>\n      <th>184</th>\n      <td>4</td>\n      <td>4</td>\n      <td>9 Darwin Lane Remuera, Auckland</td>\n      <td>2718</td>\n      <td>9000000</td>\n      <td>-36.871836</td>\n      <td>174.813689</td>\n      <td>7005974</td>\n      <td>27</td>\n      <td>12</td>\n      <td>6</td>\n      <td>18</td>\n      <td>18</td>\n      <td>36</td>\n      <td>Remuera</td>\n      <td>1.0</td>\n      <td>114</td>\n      <td>114</td>\n    </tr>\n    <tr>\n      <th>266</th>\n      <td>6</td>\n      <td>3</td>\n      <td>34d Arney Crescent Remuera, Auckland</td>\n      <td>602</td>\n      <td>6400000</td>\n      <td>-36.869937</td>\n      <td>174.788921</td>\n      <td>7005846</td>\n      <td>36</td>\n      <td>6</td>\n      <td>6</td>\n      <td>18</td>\n      <td>21</td>\n      <td>30</td>\n      <td>Remuera</td>\n      <td>1.0</td>\n      <td>129</td>\n      <td>129</td>\n    </tr>\n    <tr>\n      <th>306</th>\n      <td>2</td>\n      <td>2</td>\n      <td>223 Green Lane West Epsom, Auckland</td>\n      <td>123</td>\n      <td>18000000</td>\n      <td>-36.892772</td>\n      <td>174.779791</td>\n      <td>7005755</td>\n      <td>3</td>\n      <td>9</td>\n      <td>15</td>\n      <td>6</td>\n      <td>15</td>\n      <td>21</td>\n      <td>Epsom</td>\n      <td>4.0</td>\n      <td>60</td>\n      <td>60</td>\n    </tr>\n    <tr>\n      <th>421</th>\n      <td>5</td>\n      <td>4</td>\n      <td>15 Lammermoore Drive St Heliers, Auckland</td>\n      <td>1998</td>\n      <td>7000000</td>\n      <td>-36.863985</td>\n      <td>174.851967</td>\n      <td>7006417</td>\n      <td>51</td>\n      <td>27</td>\n      <td>9</td>\n      <td>21</td>\n      <td>42</td>\n      <td>51</td>\n      <td>St Heliers</td>\n      <td>1.0</td>\n      <td>192</td>\n      <td>192</td>\n    </tr>\n    <tr>\n      <th>441</th>\n      <td>4</td>\n      <td>3</td>\n      <td>7-9 Glen Atkinson Street St Heliers, Auckland</td>\n      <td>1750</td>\n      <td>6500000</td>\n      <td>-36.866175</td>\n      <td>174.849780</td>\n      <td>7006420</td>\n      <td>42</td>\n      <td>21</td>\n      <td>12</td>\n      <td>21</td>\n      <td>39</td>\n      <td>39</td>\n      <td>St Heliers</td>\n      <td>1.0</td>\n      <td>174</td>\n      <td>174</td>\n    </tr>\n    <tr>\n      <th>572</th>\n      <td>5</td>\n      <td>6</td>\n      <td>259 St Heliers Bay Road St Heliers, Auckland</td>\n      <td>2268</td>\n      <td>6600000</td>\n      <td>-36.863925</td>\n      <td>174.853299</td>\n      <td>7006423</td>\n      <td>39</td>\n      <td>18</td>\n      <td>15</td>\n      <td>21</td>\n      <td>39</td>\n      <td>30</td>\n      <td>St Heliers</td>\n      <td>1.0</td>\n      <td>165</td>\n      <td>165</td>\n    </tr>\n    <tr>\n      <th>582</th>\n      <td>4</td>\n      <td>5</td>\n      <td>379a Gordons Road Waiheke Island, Auckland</td>\n      <td>641</td>\n      <td>6400000</td>\n      <td>-36.829057</td>\n      <td>175.074283</td>\n      <td>7003389</td>\n      <td>30</td>\n      <td>9</td>\n      <td>18</td>\n      <td>27</td>\n      <td>39</td>\n      <td>42</td>\n      <td>Waiheke Island</td>\n      <td>4.0</td>\n      <td>168</td>\n      <td>168</td>\n    </tr>\n    <tr>\n      <th>591</th>\n      <td>6</td>\n      <td>4</td>\n      <td>410 Pukapuka Road Mahurangi, Auckland</td>\n      <td>607</td>\n      <td>6200000</td>\n      <td>-36.474573</td>\n      <td>174.693415</td>\n      <td>7001299</td>\n      <td>27</td>\n      <td>15</td>\n      <td>15</td>\n      <td>21</td>\n      <td>27</td>\n      <td>33</td>\n      <td>Pohuehue</td>\n      <td>5.0</td>\n      <td>135</td>\n      <td>135</td>\n    </tr>\n    <tr>\n      <th>1029</th>\n      <td>6</td>\n      <td>4</td>\n      <td>43 Arney Road, Auckland</td>\n      <td>3062</td>\n      <td>12250000</td>\n      <td>-36.872514</td>\n      <td>174.788572</td>\n      <td>7005696</td>\n      <td>60</td>\n      <td>12</td>\n      <td>15</td>\n      <td>27</td>\n      <td>24</td>\n      <td>33</td>\n      <td>Remuera</td>\n      <td>1.0</td>\n      <td>168</td>\n      <td>168</td>\n    </tr>\n    <tr>\n      <th>1039</th>\n      <td>5</td>\n      <td>6</td>\n      <td>57 Portland Road, Auckland</td>\n      <td>3565</td>\n      <td>12500000</td>\n      <td>-36.875552</td>\n      <td>174.795402</td>\n      <td>7005840</td>\n      <td>42</td>\n      <td>9</td>\n      <td>6</td>\n      <td>27</td>\n      <td>30</td>\n      <td>36</td>\n      <td>Remuera</td>\n      <td>1.0</td>\n      <td>150</td>\n      <td>150</td>\n    </tr>\n  </tbody>\n</table>\n</div>"
          },
          "metadata": {},
          "execution_count": 27
        }
      ],
      "source": [
        "df.loc[df['CV']>6000000] "
      ]
    },
    {
      "cell_type": "code",
      "execution_count": 28,
      "metadata": {},
      "outputs": [],
      "source": [
        "df.loc[df['CV'] == 18000000, 'CV'] = 1800000\n",
        "# the price looks suspicious with respect to the land area and other parameters"
      ]
    },
    {
      "cell_type": "code",
      "execution_count": 29,
      "metadata": {},
      "outputs": [],
      "source": [
        "df.drop_duplicates(inplace=True)"
      ]
    },
    {
      "cell_type": "code",
      "execution_count": 30,
      "metadata": {},
      "outputs": [],
      "source": [
        "df.to_csv('prepared data.csv')"
      ]
    },
    {
      "cell_type": "code",
      "execution_count": null,
      "metadata": {},
      "outputs": [],
      "source": []
    }
  ],
  "metadata": {
    "kernelspec": {
      "name": "python_defaultSpec_1595724551119",
      "display_name": "Python 3.8.0 32-bit",
      "language": "python"
    },
    "language_info": {
      "mimetype": "text/x-python",
      "nbconvert_exporter": "python",
      "name": "python",
      "pygments_lexer": "ipython3",
      "version": "3.6.6",
      "file_extension": ".py",
      "codemirror_mode": {
        "version": 3,
        "name": "ipython"
      }
    }
  },
  "nbformat": 4,
  "nbformat_minor": 2
}